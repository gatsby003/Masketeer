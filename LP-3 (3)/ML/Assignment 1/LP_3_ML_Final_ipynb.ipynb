{
  "cells": [
    {
      "cell_type": "markdown",
      "id": "9fa47041",
      "metadata": {
        "id": "9fa47041"
      },
      "source": [
        "# #Predict the price of the Uber ride from a given pickup point to the agreed drop-off location. Perform following tasks:\n",
        "1.\tPre-process the dataset.\n",
        "2.\tIdentify outliers.\n",
        "3.\tCheck the correlation.\n",
        "4.\tImplement linear regression and random forest regression models.\n",
        "5.\tEvaluate the models and compare their respective scores like R2, RMSE, etc. Dataset link: https://www.kaggle.com/datasets/yasserh/uber-fares-dataset\n"
      ]
    },
    {
      "cell_type": "code",
      "execution_count": null,
      "id": "8cf18579",
      "metadata": {
        "id": "8cf18579"
      },
      "outputs": [],
      "source": [
        "#Importing the required libraries\n",
        "import pandas as pd\n",
        "import numpy as np\n",
        "import seaborn as sns\n",
        "import matplotlib.pyplot as plt"
      ]
    },
    {
      "cell_type": "code",
      "execution_count": null,
      "id": "9785d23e",
      "metadata": {
        "id": "9785d23e"
      },
      "outputs": [],
      "source": [
        "#importing the dataset\n",
        "df  = pd.read_csv(\"uber.csv\")"
      ]
    },
    {
      "cell_type": "markdown",
      "id": "38ef68f5",
      "metadata": {
        "id": "38ef68f5"
      },
      "source": [
        "##  1.\tPre-process the dataset."
      ]
    },
    {
      "cell_type": "code",
      "execution_count": null,
      "id": "95a9241d",
      "metadata": {
        "id": "95a9241d",
        "outputId": "40049b7d-2299-4b25-8ec1-45e4a2b860f2",
        "colab": {
          "base_uri": "https://localhost:8080/",
          "height": 354
        }
      },
      "outputs": [
        {
          "output_type": "execute_result",
          "data": {
            "text/plain": [
              "   Unnamed: 0                            key  fare_amount  \\\n",
              "0    24238194    2015-05-07 19:52:06.0000003          7.5   \n",
              "1    27835199    2009-07-17 20:04:56.0000002          7.7   \n",
              "2    44984355   2009-08-24 21:45:00.00000061         12.9   \n",
              "3    25894730    2009-06-26 08:22:21.0000001          5.3   \n",
              "4    17610152  2014-08-28 17:47:00.000000188         16.0   \n",
              "\n",
              "           pickup_datetime  pickup_longitude  pickup_latitude  \\\n",
              "0  2015-05-07 19:52:06 UTC        -73.999817        40.738354   \n",
              "1  2009-07-17 20:04:56 UTC        -73.994355        40.728225   \n",
              "2  2009-08-24 21:45:00 UTC        -74.005043        40.740770   \n",
              "3  2009-06-26 08:22:21 UTC        -73.976124        40.790844   \n",
              "4  2014-08-28 17:47:00 UTC        -73.925023        40.744085   \n",
              "\n",
              "   dropoff_longitude  dropoff_latitude  passenger_count  \n",
              "0         -73.999512         40.723217              1.0  \n",
              "1         -73.994710         40.750325              1.0  \n",
              "2         -73.962565         40.772647              1.0  \n",
              "3         -73.965316         40.803349              3.0  \n",
              "4         -73.973082         40.761247              5.0  "
            ],
            "text/html": [
              "\n",
              "  <div id=\"df-3d1220be-90f9-45b5-be57-7d07daafe6e6\">\n",
              "    <div class=\"colab-df-container\">\n",
              "      <div>\n",
              "<style scoped>\n",
              "    .dataframe tbody tr th:only-of-type {\n",
              "        vertical-align: middle;\n",
              "    }\n",
              "\n",
              "    .dataframe tbody tr th {\n",
              "        vertical-align: top;\n",
              "    }\n",
              "\n",
              "    .dataframe thead th {\n",
              "        text-align: right;\n",
              "    }\n",
              "</style>\n",
              "<table border=\"1\" class=\"dataframe\">\n",
              "  <thead>\n",
              "    <tr style=\"text-align: right;\">\n",
              "      <th></th>\n",
              "      <th>Unnamed: 0</th>\n",
              "      <th>key</th>\n",
              "      <th>fare_amount</th>\n",
              "      <th>pickup_datetime</th>\n",
              "      <th>pickup_longitude</th>\n",
              "      <th>pickup_latitude</th>\n",
              "      <th>dropoff_longitude</th>\n",
              "      <th>dropoff_latitude</th>\n",
              "      <th>passenger_count</th>\n",
              "    </tr>\n",
              "  </thead>\n",
              "  <tbody>\n",
              "    <tr>\n",
              "      <th>0</th>\n",
              "      <td>24238194</td>\n",
              "      <td>2015-05-07 19:52:06.0000003</td>\n",
              "      <td>7.5</td>\n",
              "      <td>2015-05-07 19:52:06 UTC</td>\n",
              "      <td>-73.999817</td>\n",
              "      <td>40.738354</td>\n",
              "      <td>-73.999512</td>\n",
              "      <td>40.723217</td>\n",
              "      <td>1.0</td>\n",
              "    </tr>\n",
              "    <tr>\n",
              "      <th>1</th>\n",
              "      <td>27835199</td>\n",
              "      <td>2009-07-17 20:04:56.0000002</td>\n",
              "      <td>7.7</td>\n",
              "      <td>2009-07-17 20:04:56 UTC</td>\n",
              "      <td>-73.994355</td>\n",
              "      <td>40.728225</td>\n",
              "      <td>-73.994710</td>\n",
              "      <td>40.750325</td>\n",
              "      <td>1.0</td>\n",
              "    </tr>\n",
              "    <tr>\n",
              "      <th>2</th>\n",
              "      <td>44984355</td>\n",
              "      <td>2009-08-24 21:45:00.00000061</td>\n",
              "      <td>12.9</td>\n",
              "      <td>2009-08-24 21:45:00 UTC</td>\n",
              "      <td>-74.005043</td>\n",
              "      <td>40.740770</td>\n",
              "      <td>-73.962565</td>\n",
              "      <td>40.772647</td>\n",
              "      <td>1.0</td>\n",
              "    </tr>\n",
              "    <tr>\n",
              "      <th>3</th>\n",
              "      <td>25894730</td>\n",
              "      <td>2009-06-26 08:22:21.0000001</td>\n",
              "      <td>5.3</td>\n",
              "      <td>2009-06-26 08:22:21 UTC</td>\n",
              "      <td>-73.976124</td>\n",
              "      <td>40.790844</td>\n",
              "      <td>-73.965316</td>\n",
              "      <td>40.803349</td>\n",
              "      <td>3.0</td>\n",
              "    </tr>\n",
              "    <tr>\n",
              "      <th>4</th>\n",
              "      <td>17610152</td>\n",
              "      <td>2014-08-28 17:47:00.000000188</td>\n",
              "      <td>16.0</td>\n",
              "      <td>2014-08-28 17:47:00 UTC</td>\n",
              "      <td>-73.925023</td>\n",
              "      <td>40.744085</td>\n",
              "      <td>-73.973082</td>\n",
              "      <td>40.761247</td>\n",
              "      <td>5.0</td>\n",
              "    </tr>\n",
              "  </tbody>\n",
              "</table>\n",
              "</div>\n",
              "      <button class=\"colab-df-convert\" onclick=\"convertToInteractive('df-3d1220be-90f9-45b5-be57-7d07daafe6e6')\"\n",
              "              title=\"Convert this dataframe to an interactive table.\"\n",
              "              style=\"display:none;\">\n",
              "        \n",
              "  <svg xmlns=\"http://www.w3.org/2000/svg\" height=\"24px\"viewBox=\"0 0 24 24\"\n",
              "       width=\"24px\">\n",
              "    <path d=\"M0 0h24v24H0V0z\" fill=\"none\"/>\n",
              "    <path d=\"M18.56 5.44l.94 2.06.94-2.06 2.06-.94-2.06-.94-.94-2.06-.94 2.06-2.06.94zm-11 1L8.5 8.5l.94-2.06 2.06-.94-2.06-.94L8.5 2.5l-.94 2.06-2.06.94zm10 10l.94 2.06.94-2.06 2.06-.94-2.06-.94-.94-2.06-.94 2.06-2.06.94z\"/><path d=\"M17.41 7.96l-1.37-1.37c-.4-.4-.92-.59-1.43-.59-.52 0-1.04.2-1.43.59L10.3 9.45l-7.72 7.72c-.78.78-.78 2.05 0 2.83L4 21.41c.39.39.9.59 1.41.59.51 0 1.02-.2 1.41-.59l7.78-7.78 2.81-2.81c.8-.78.8-2.07 0-2.86zM5.41 20L4 18.59l7.72-7.72 1.47 1.35L5.41 20z\"/>\n",
              "  </svg>\n",
              "      </button>\n",
              "      \n",
              "  <style>\n",
              "    .colab-df-container {\n",
              "      display:flex;\n",
              "      flex-wrap:wrap;\n",
              "      gap: 12px;\n",
              "    }\n",
              "\n",
              "    .colab-df-convert {\n",
              "      background-color: #E8F0FE;\n",
              "      border: none;\n",
              "      border-radius: 50%;\n",
              "      cursor: pointer;\n",
              "      display: none;\n",
              "      fill: #1967D2;\n",
              "      height: 32px;\n",
              "      padding: 0 0 0 0;\n",
              "      width: 32px;\n",
              "    }\n",
              "\n",
              "    .colab-df-convert:hover {\n",
              "      background-color: #E2EBFA;\n",
              "      box-shadow: 0px 1px 2px rgba(60, 64, 67, 0.3), 0px 1px 3px 1px rgba(60, 64, 67, 0.15);\n",
              "      fill: #174EA6;\n",
              "    }\n",
              "\n",
              "    [theme=dark] .colab-df-convert {\n",
              "      background-color: #3B4455;\n",
              "      fill: #D2E3FC;\n",
              "    }\n",
              "\n",
              "    [theme=dark] .colab-df-convert:hover {\n",
              "      background-color: #434B5C;\n",
              "      box-shadow: 0px 1px 3px 1px rgba(0, 0, 0, 0.15);\n",
              "      filter: drop-shadow(0px 1px 2px rgba(0, 0, 0, 0.3));\n",
              "      fill: #FFFFFF;\n",
              "    }\n",
              "  </style>\n",
              "\n",
              "      <script>\n",
              "        const buttonEl =\n",
              "          document.querySelector('#df-3d1220be-90f9-45b5-be57-7d07daafe6e6 button.colab-df-convert');\n",
              "        buttonEl.style.display =\n",
              "          google.colab.kernel.accessAllowed ? 'block' : 'none';\n",
              "\n",
              "        async function convertToInteractive(key) {\n",
              "          const element = document.querySelector('#df-3d1220be-90f9-45b5-be57-7d07daafe6e6');\n",
              "          const dataTable =\n",
              "            await google.colab.kernel.invokeFunction('convertToInteractive',\n",
              "                                                     [key], {});\n",
              "          if (!dataTable) return;\n",
              "\n",
              "          const docLinkHtml = 'Like what you see? Visit the ' +\n",
              "            '<a target=\"_blank\" href=https://colab.research.google.com/notebooks/data_table.ipynb>data table notebook</a>'\n",
              "            + ' to learn more about interactive tables.';\n",
              "          element.innerHTML = '';\n",
              "          dataTable['output_type'] = 'display_data';\n",
              "          await google.colab.output.renderOutput(dataTable, element);\n",
              "          const docLink = document.createElement('div');\n",
              "          docLink.innerHTML = docLinkHtml;\n",
              "          element.appendChild(docLink);\n",
              "        }\n",
              "      </script>\n",
              "    </div>\n",
              "  </div>\n",
              "  "
            ]
          },
          "metadata": {},
          "execution_count": 3
        }
      ],
      "source": [
        "df.head()"
      ]
    },
    {
      "cell_type": "code",
      "execution_count": null,
      "id": "f2050540",
      "metadata": {
        "id": "f2050540",
        "outputId": "e1f3ab36-126a-417d-98f7-d661c429f52b",
        "colab": {
          "base_uri": "https://localhost:8080/"
        }
      },
      "outputs": [
        {
          "output_type": "stream",
          "name": "stdout",
          "text": [
            "<class 'pandas.core.frame.DataFrame'>\n",
            "RangeIndex: 35725 entries, 0 to 35724\n",
            "Data columns (total 9 columns):\n",
            " #   Column             Non-Null Count  Dtype  \n",
            "---  ------             --------------  -----  \n",
            " 0   Unnamed: 0         35725 non-null  int64  \n",
            " 1   key                35725 non-null  object \n",
            " 2   fare_amount        35725 non-null  float64\n",
            " 3   pickup_datetime    35725 non-null  object \n",
            " 4   pickup_longitude   35724 non-null  float64\n",
            " 5   pickup_latitude    35724 non-null  float64\n",
            " 6   dropoff_longitude  35724 non-null  float64\n",
            " 7   dropoff_latitude   35724 non-null  float64\n",
            " 8   passenger_count    35724 non-null  float64\n",
            "dtypes: float64(6), int64(1), object(2)\n",
            "memory usage: 2.5+ MB\n"
          ]
        }
      ],
      "source": [
        "df.info() #To get the required information of the dataset"
      ]
    },
    {
      "cell_type": "code",
      "execution_count": null,
      "id": "7a58d76d",
      "metadata": {
        "id": "7a58d76d",
        "outputId": "47a63a22-c559-4730-c2ae-c060b7707ccd",
        "colab": {
          "base_uri": "https://localhost:8080/"
        }
      },
      "outputs": [
        {
          "output_type": "execute_result",
          "data": {
            "text/plain": [
              "Index(['Unnamed: 0', 'key', 'fare_amount', 'pickup_datetime',\n",
              "       'pickup_longitude', 'pickup_latitude', 'dropoff_longitude',\n",
              "       'dropoff_latitude', 'passenger_count'],\n",
              "      dtype='object')"
            ]
          },
          "metadata": {},
          "execution_count": 5
        }
      ],
      "source": [
        "df.columns #TO get number of columns in the dataset"
      ]
    },
    {
      "cell_type": "code",
      "execution_count": null,
      "id": "2b805dc7",
      "metadata": {
        "id": "2b805dc7"
      },
      "outputs": [],
      "source": [
        "df = df.drop(['Unnamed: 0', 'key'], axis= 1) #To drop unnamed column as it isn't required"
      ]
    },
    {
      "cell_type": "code",
      "execution_count": null,
      "id": "e98cae88",
      "metadata": {
        "id": "e98cae88",
        "outputId": "99e088fa-7a71-4bc2-af00-9e59eb2ef3ac",
        "colab": {
          "base_uri": "https://localhost:8080/",
          "height": 206
        }
      },
      "outputs": [
        {
          "output_type": "execute_result",
          "data": {
            "text/plain": [
              "   fare_amount          pickup_datetime  pickup_longitude  pickup_latitude  \\\n",
              "0          7.5  2015-05-07 19:52:06 UTC        -73.999817        40.738354   \n",
              "1          7.7  2009-07-17 20:04:56 UTC        -73.994355        40.728225   \n",
              "2         12.9  2009-08-24 21:45:00 UTC        -74.005043        40.740770   \n",
              "3          5.3  2009-06-26 08:22:21 UTC        -73.976124        40.790844   \n",
              "4         16.0  2014-08-28 17:47:00 UTC        -73.925023        40.744085   \n",
              "\n",
              "   dropoff_longitude  dropoff_latitude  passenger_count  \n",
              "0         -73.999512         40.723217              1.0  \n",
              "1         -73.994710         40.750325              1.0  \n",
              "2         -73.962565         40.772647              1.0  \n",
              "3         -73.965316         40.803349              3.0  \n",
              "4         -73.973082         40.761247              5.0  "
            ],
            "text/html": [
              "\n",
              "  <div id=\"df-09bb7129-0075-4071-a02b-c316f877f6f8\">\n",
              "    <div class=\"colab-df-container\">\n",
              "      <div>\n",
              "<style scoped>\n",
              "    .dataframe tbody tr th:only-of-type {\n",
              "        vertical-align: middle;\n",
              "    }\n",
              "\n",
              "    .dataframe tbody tr th {\n",
              "        vertical-align: top;\n",
              "    }\n",
              "\n",
              "    .dataframe thead th {\n",
              "        text-align: right;\n",
              "    }\n",
              "</style>\n",
              "<table border=\"1\" class=\"dataframe\">\n",
              "  <thead>\n",
              "    <tr style=\"text-align: right;\">\n",
              "      <th></th>\n",
              "      <th>fare_amount</th>\n",
              "      <th>pickup_datetime</th>\n",
              "      <th>pickup_longitude</th>\n",
              "      <th>pickup_latitude</th>\n",
              "      <th>dropoff_longitude</th>\n",
              "      <th>dropoff_latitude</th>\n",
              "      <th>passenger_count</th>\n",
              "    </tr>\n",
              "  </thead>\n",
              "  <tbody>\n",
              "    <tr>\n",
              "      <th>0</th>\n",
              "      <td>7.5</td>\n",
              "      <td>2015-05-07 19:52:06 UTC</td>\n",
              "      <td>-73.999817</td>\n",
              "      <td>40.738354</td>\n",
              "      <td>-73.999512</td>\n",
              "      <td>40.723217</td>\n",
              "      <td>1.0</td>\n",
              "    </tr>\n",
              "    <tr>\n",
              "      <th>1</th>\n",
              "      <td>7.7</td>\n",
              "      <td>2009-07-17 20:04:56 UTC</td>\n",
              "      <td>-73.994355</td>\n",
              "      <td>40.728225</td>\n",
              "      <td>-73.994710</td>\n",
              "      <td>40.750325</td>\n",
              "      <td>1.0</td>\n",
              "    </tr>\n",
              "    <tr>\n",
              "      <th>2</th>\n",
              "      <td>12.9</td>\n",
              "      <td>2009-08-24 21:45:00 UTC</td>\n",
              "      <td>-74.005043</td>\n",
              "      <td>40.740770</td>\n",
              "      <td>-73.962565</td>\n",
              "      <td>40.772647</td>\n",
              "      <td>1.0</td>\n",
              "    </tr>\n",
              "    <tr>\n",
              "      <th>3</th>\n",
              "      <td>5.3</td>\n",
              "      <td>2009-06-26 08:22:21 UTC</td>\n",
              "      <td>-73.976124</td>\n",
              "      <td>40.790844</td>\n",
              "      <td>-73.965316</td>\n",
              "      <td>40.803349</td>\n",
              "      <td>3.0</td>\n",
              "    </tr>\n",
              "    <tr>\n",
              "      <th>4</th>\n",
              "      <td>16.0</td>\n",
              "      <td>2014-08-28 17:47:00 UTC</td>\n",
              "      <td>-73.925023</td>\n",
              "      <td>40.744085</td>\n",
              "      <td>-73.973082</td>\n",
              "      <td>40.761247</td>\n",
              "      <td>5.0</td>\n",
              "    </tr>\n",
              "  </tbody>\n",
              "</table>\n",
              "</div>\n",
              "      <button class=\"colab-df-convert\" onclick=\"convertToInteractive('df-09bb7129-0075-4071-a02b-c316f877f6f8')\"\n",
              "              title=\"Convert this dataframe to an interactive table.\"\n",
              "              style=\"display:none;\">\n",
              "        \n",
              "  <svg xmlns=\"http://www.w3.org/2000/svg\" height=\"24px\"viewBox=\"0 0 24 24\"\n",
              "       width=\"24px\">\n",
              "    <path d=\"M0 0h24v24H0V0z\" fill=\"none\"/>\n",
              "    <path d=\"M18.56 5.44l.94 2.06.94-2.06 2.06-.94-2.06-.94-.94-2.06-.94 2.06-2.06.94zm-11 1L8.5 8.5l.94-2.06 2.06-.94-2.06-.94L8.5 2.5l-.94 2.06-2.06.94zm10 10l.94 2.06.94-2.06 2.06-.94-2.06-.94-.94-2.06-.94 2.06-2.06.94z\"/><path d=\"M17.41 7.96l-1.37-1.37c-.4-.4-.92-.59-1.43-.59-.52 0-1.04.2-1.43.59L10.3 9.45l-7.72 7.72c-.78.78-.78 2.05 0 2.83L4 21.41c.39.39.9.59 1.41.59.51 0 1.02-.2 1.41-.59l7.78-7.78 2.81-2.81c.8-.78.8-2.07 0-2.86zM5.41 20L4 18.59l7.72-7.72 1.47 1.35L5.41 20z\"/>\n",
              "  </svg>\n",
              "      </button>\n",
              "      \n",
              "  <style>\n",
              "    .colab-df-container {\n",
              "      display:flex;\n",
              "      flex-wrap:wrap;\n",
              "      gap: 12px;\n",
              "    }\n",
              "\n",
              "    .colab-df-convert {\n",
              "      background-color: #E8F0FE;\n",
              "      border: none;\n",
              "      border-radius: 50%;\n",
              "      cursor: pointer;\n",
              "      display: none;\n",
              "      fill: #1967D2;\n",
              "      height: 32px;\n",
              "      padding: 0 0 0 0;\n",
              "      width: 32px;\n",
              "    }\n",
              "\n",
              "    .colab-df-convert:hover {\n",
              "      background-color: #E2EBFA;\n",
              "      box-shadow: 0px 1px 2px rgba(60, 64, 67, 0.3), 0px 1px 3px 1px rgba(60, 64, 67, 0.15);\n",
              "      fill: #174EA6;\n",
              "    }\n",
              "\n",
              "    [theme=dark] .colab-df-convert {\n",
              "      background-color: #3B4455;\n",
              "      fill: #D2E3FC;\n",
              "    }\n",
              "\n",
              "    [theme=dark] .colab-df-convert:hover {\n",
              "      background-color: #434B5C;\n",
              "      box-shadow: 0px 1px 3px 1px rgba(0, 0, 0, 0.15);\n",
              "      filter: drop-shadow(0px 1px 2px rgba(0, 0, 0, 0.3));\n",
              "      fill: #FFFFFF;\n",
              "    }\n",
              "  </style>\n",
              "\n",
              "      <script>\n",
              "        const buttonEl =\n",
              "          document.querySelector('#df-09bb7129-0075-4071-a02b-c316f877f6f8 button.colab-df-convert');\n",
              "        buttonEl.style.display =\n",
              "          google.colab.kernel.accessAllowed ? 'block' : 'none';\n",
              "\n",
              "        async function convertToInteractive(key) {\n",
              "          const element = document.querySelector('#df-09bb7129-0075-4071-a02b-c316f877f6f8');\n",
              "          const dataTable =\n",
              "            await google.colab.kernel.invokeFunction('convertToInteractive',\n",
              "                                                     [key], {});\n",
              "          if (!dataTable) return;\n",
              "\n",
              "          const docLinkHtml = 'Like what you see? Visit the ' +\n",
              "            '<a target=\"_blank\" href=https://colab.research.google.com/notebooks/data_table.ipynb>data table notebook</a>'\n",
              "            + ' to learn more about interactive tables.';\n",
              "          element.innerHTML = '';\n",
              "          dataTable['output_type'] = 'display_data';\n",
              "          await google.colab.output.renderOutput(dataTable, element);\n",
              "          const docLink = document.createElement('div');\n",
              "          docLink.innerHTML = docLinkHtml;\n",
              "          element.appendChild(docLink);\n",
              "        }\n",
              "      </script>\n",
              "    </div>\n",
              "  </div>\n",
              "  "
            ]
          },
          "metadata": {},
          "execution_count": 7
        }
      ],
      "source": [
        "df.head()"
      ]
    },
    {
      "cell_type": "code",
      "execution_count": null,
      "id": "465258ab",
      "metadata": {
        "id": "465258ab",
        "outputId": "7e690b17-2d89-4941-f867-1d37ce0a5388",
        "colab": {
          "base_uri": "https://localhost:8080/"
        }
      },
      "outputs": [
        {
          "output_type": "execute_result",
          "data": {
            "text/plain": [
              "(35725, 7)"
            ]
          },
          "metadata": {},
          "execution_count": 8
        }
      ],
      "source": [
        "df.shape #To get the total (Rows,Columns)"
      ]
    },
    {
      "cell_type": "code",
      "execution_count": null,
      "id": "4abc8b91",
      "metadata": {
        "id": "4abc8b91",
        "outputId": "a654606d-e4a6-4d07-e6fb-0476c33c0f18",
        "colab": {
          "base_uri": "https://localhost:8080/"
        }
      },
      "outputs": [
        {
          "output_type": "execute_result",
          "data": {
            "text/plain": [
              "fare_amount          float64\n",
              "pickup_datetime       object\n",
              "pickup_longitude     float64\n",
              "pickup_latitude      float64\n",
              "dropoff_longitude    float64\n",
              "dropoff_latitude     float64\n",
              "passenger_count      float64\n",
              "dtype: object"
            ]
          },
          "metadata": {},
          "execution_count": 9
        }
      ],
      "source": [
        "df.dtypes #To get the type of each column"
      ]
    },
    {
      "cell_type": "code",
      "execution_count": null,
      "id": "28181a85",
      "metadata": {
        "id": "28181a85",
        "outputId": "c7f33414-0868-4b37-a584-fe47ad268cec",
        "colab": {
          "base_uri": "https://localhost:8080/"
        }
      },
      "outputs": [
        {
          "output_type": "stream",
          "name": "stdout",
          "text": [
            "<class 'pandas.core.frame.DataFrame'>\n",
            "RangeIndex: 35725 entries, 0 to 35724\n",
            "Data columns (total 7 columns):\n",
            " #   Column             Non-Null Count  Dtype  \n",
            "---  ------             --------------  -----  \n",
            " 0   fare_amount        35725 non-null  float64\n",
            " 1   pickup_datetime    35725 non-null  object \n",
            " 2   pickup_longitude   35724 non-null  float64\n",
            " 3   pickup_latitude    35724 non-null  float64\n",
            " 4   dropoff_longitude  35724 non-null  float64\n",
            " 5   dropoff_latitude   35724 non-null  float64\n",
            " 6   passenger_count    35724 non-null  float64\n",
            "dtypes: float64(6), object(1)\n",
            "memory usage: 1.9+ MB\n"
          ]
        }
      ],
      "source": [
        "df.info()\n"
      ]
    },
    {
      "cell_type": "code",
      "execution_count": null,
      "id": "6b42caca",
      "metadata": {
        "id": "6b42caca",
        "outputId": "07cac80c-2379-48a2-ca81-ed9cd0c90f0a",
        "colab": {
          "base_uri": "https://localhost:8080/",
          "height": 300
        }
      },
      "outputs": [
        {
          "output_type": "execute_result",
          "data": {
            "text/plain": [
              "        fare_amount  pickup_longitude  pickup_latitude  dropoff_longitude  \\\n",
              "count  35725.000000      35724.000000     35724.000000       35724.000000   \n",
              "mean      11.394681        -72.561212        39.942645         -72.572503   \n",
              "std       10.085005         10.911110         6.047059          10.852786   \n",
              "min        0.000000       -748.016667       -74.015515        -737.916665   \n",
              "25%        6.000000        -73.992033        40.734753         -73.991475   \n",
              "50%        8.500000        -73.981821        40.752563         -73.980170   \n",
              "75%       12.900000        -73.967196        40.767152         -73.963545   \n",
              "max      350.000000         40.774042        45.031653          40.828377   \n",
              "\n",
              "       dropoff_latitude  passenger_count  \n",
              "count      35724.000000     35724.000000  \n",
              "mean          39.943957         1.677024  \n",
              "std            6.043435         1.294493  \n",
              "min          -74.008745         0.000000  \n",
              "25%           40.733846         1.000000  \n",
              "50%           40.752855         1.000000  \n",
              "75%           40.768076         2.000000  \n",
              "max           45.031598         6.000000  "
            ],
            "text/html": [
              "\n",
              "  <div id=\"df-18df8590-9295-4250-905d-e9b1f9b57e5b\">\n",
              "    <div class=\"colab-df-container\">\n",
              "      <div>\n",
              "<style scoped>\n",
              "    .dataframe tbody tr th:only-of-type {\n",
              "        vertical-align: middle;\n",
              "    }\n",
              "\n",
              "    .dataframe tbody tr th {\n",
              "        vertical-align: top;\n",
              "    }\n",
              "\n",
              "    .dataframe thead th {\n",
              "        text-align: right;\n",
              "    }\n",
              "</style>\n",
              "<table border=\"1\" class=\"dataframe\">\n",
              "  <thead>\n",
              "    <tr style=\"text-align: right;\">\n",
              "      <th></th>\n",
              "      <th>fare_amount</th>\n",
              "      <th>pickup_longitude</th>\n",
              "      <th>pickup_latitude</th>\n",
              "      <th>dropoff_longitude</th>\n",
              "      <th>dropoff_latitude</th>\n",
              "      <th>passenger_count</th>\n",
              "    </tr>\n",
              "  </thead>\n",
              "  <tbody>\n",
              "    <tr>\n",
              "      <th>count</th>\n",
              "      <td>35725.000000</td>\n",
              "      <td>35724.000000</td>\n",
              "      <td>35724.000000</td>\n",
              "      <td>35724.000000</td>\n",
              "      <td>35724.000000</td>\n",
              "      <td>35724.000000</td>\n",
              "    </tr>\n",
              "    <tr>\n",
              "      <th>mean</th>\n",
              "      <td>11.394681</td>\n",
              "      <td>-72.561212</td>\n",
              "      <td>39.942645</td>\n",
              "      <td>-72.572503</td>\n",
              "      <td>39.943957</td>\n",
              "      <td>1.677024</td>\n",
              "    </tr>\n",
              "    <tr>\n",
              "      <th>std</th>\n",
              "      <td>10.085005</td>\n",
              "      <td>10.911110</td>\n",
              "      <td>6.047059</td>\n",
              "      <td>10.852786</td>\n",
              "      <td>6.043435</td>\n",
              "      <td>1.294493</td>\n",
              "    </tr>\n",
              "    <tr>\n",
              "      <th>min</th>\n",
              "      <td>0.000000</td>\n",
              "      <td>-748.016667</td>\n",
              "      <td>-74.015515</td>\n",
              "      <td>-737.916665</td>\n",
              "      <td>-74.008745</td>\n",
              "      <td>0.000000</td>\n",
              "    </tr>\n",
              "    <tr>\n",
              "      <th>25%</th>\n",
              "      <td>6.000000</td>\n",
              "      <td>-73.992033</td>\n",
              "      <td>40.734753</td>\n",
              "      <td>-73.991475</td>\n",
              "      <td>40.733846</td>\n",
              "      <td>1.000000</td>\n",
              "    </tr>\n",
              "    <tr>\n",
              "      <th>50%</th>\n",
              "      <td>8.500000</td>\n",
              "      <td>-73.981821</td>\n",
              "      <td>40.752563</td>\n",
              "      <td>-73.980170</td>\n",
              "      <td>40.752855</td>\n",
              "      <td>1.000000</td>\n",
              "    </tr>\n",
              "    <tr>\n",
              "      <th>75%</th>\n",
              "      <td>12.900000</td>\n",
              "      <td>-73.967196</td>\n",
              "      <td>40.767152</td>\n",
              "      <td>-73.963545</td>\n",
              "      <td>40.768076</td>\n",
              "      <td>2.000000</td>\n",
              "    </tr>\n",
              "    <tr>\n",
              "      <th>max</th>\n",
              "      <td>350.000000</td>\n",
              "      <td>40.774042</td>\n",
              "      <td>45.031653</td>\n",
              "      <td>40.828377</td>\n",
              "      <td>45.031598</td>\n",
              "      <td>6.000000</td>\n",
              "    </tr>\n",
              "  </tbody>\n",
              "</table>\n",
              "</div>\n",
              "      <button class=\"colab-df-convert\" onclick=\"convertToInteractive('df-18df8590-9295-4250-905d-e9b1f9b57e5b')\"\n",
              "              title=\"Convert this dataframe to an interactive table.\"\n",
              "              style=\"display:none;\">\n",
              "        \n",
              "  <svg xmlns=\"http://www.w3.org/2000/svg\" height=\"24px\"viewBox=\"0 0 24 24\"\n",
              "       width=\"24px\">\n",
              "    <path d=\"M0 0h24v24H0V0z\" fill=\"none\"/>\n",
              "    <path d=\"M18.56 5.44l.94 2.06.94-2.06 2.06-.94-2.06-.94-.94-2.06-.94 2.06-2.06.94zm-11 1L8.5 8.5l.94-2.06 2.06-.94-2.06-.94L8.5 2.5l-.94 2.06-2.06.94zm10 10l.94 2.06.94-2.06 2.06-.94-2.06-.94-.94-2.06-.94 2.06-2.06.94z\"/><path d=\"M17.41 7.96l-1.37-1.37c-.4-.4-.92-.59-1.43-.59-.52 0-1.04.2-1.43.59L10.3 9.45l-7.72 7.72c-.78.78-.78 2.05 0 2.83L4 21.41c.39.39.9.59 1.41.59.51 0 1.02-.2 1.41-.59l7.78-7.78 2.81-2.81c.8-.78.8-2.07 0-2.86zM5.41 20L4 18.59l7.72-7.72 1.47 1.35L5.41 20z\"/>\n",
              "  </svg>\n",
              "      </button>\n",
              "      \n",
              "  <style>\n",
              "    .colab-df-container {\n",
              "      display:flex;\n",
              "      flex-wrap:wrap;\n",
              "      gap: 12px;\n",
              "    }\n",
              "\n",
              "    .colab-df-convert {\n",
              "      background-color: #E8F0FE;\n",
              "      border: none;\n",
              "      border-radius: 50%;\n",
              "      cursor: pointer;\n",
              "      display: none;\n",
              "      fill: #1967D2;\n",
              "      height: 32px;\n",
              "      padding: 0 0 0 0;\n",
              "      width: 32px;\n",
              "    }\n",
              "\n",
              "    .colab-df-convert:hover {\n",
              "      background-color: #E2EBFA;\n",
              "      box-shadow: 0px 1px 2px rgba(60, 64, 67, 0.3), 0px 1px 3px 1px rgba(60, 64, 67, 0.15);\n",
              "      fill: #174EA6;\n",
              "    }\n",
              "\n",
              "    [theme=dark] .colab-df-convert {\n",
              "      background-color: #3B4455;\n",
              "      fill: #D2E3FC;\n",
              "    }\n",
              "\n",
              "    [theme=dark] .colab-df-convert:hover {\n",
              "      background-color: #434B5C;\n",
              "      box-shadow: 0px 1px 3px 1px rgba(0, 0, 0, 0.15);\n",
              "      filter: drop-shadow(0px 1px 2px rgba(0, 0, 0, 0.3));\n",
              "      fill: #FFFFFF;\n",
              "    }\n",
              "  </style>\n",
              "\n",
              "      <script>\n",
              "        const buttonEl =\n",
              "          document.querySelector('#df-18df8590-9295-4250-905d-e9b1f9b57e5b button.colab-df-convert');\n",
              "        buttonEl.style.display =\n",
              "          google.colab.kernel.accessAllowed ? 'block' : 'none';\n",
              "\n",
              "        async function convertToInteractive(key) {\n",
              "          const element = document.querySelector('#df-18df8590-9295-4250-905d-e9b1f9b57e5b');\n",
              "          const dataTable =\n",
              "            await google.colab.kernel.invokeFunction('convertToInteractive',\n",
              "                                                     [key], {});\n",
              "          if (!dataTable) return;\n",
              "\n",
              "          const docLinkHtml = 'Like what you see? Visit the ' +\n",
              "            '<a target=\"_blank\" href=https://colab.research.google.com/notebooks/data_table.ipynb>data table notebook</a>'\n",
              "            + ' to learn more about interactive tables.';\n",
              "          element.innerHTML = '';\n",
              "          dataTable['output_type'] = 'display_data';\n",
              "          await google.colab.output.renderOutput(dataTable, element);\n",
              "          const docLink = document.createElement('div');\n",
              "          docLink.innerHTML = docLinkHtml;\n",
              "          element.appendChild(docLink);\n",
              "        }\n",
              "      </script>\n",
              "    </div>\n",
              "  </div>\n",
              "  "
            ]
          },
          "metadata": {},
          "execution_count": 11
        }
      ],
      "source": [
        "df.describe() #To get statistics of each columns "
      ]
    },
    {
      "cell_type": "markdown",
      "id": "76d8c68b",
      "metadata": {
        "id": "76d8c68b"
      },
      "source": [
        "### Filling Missing values"
      ]
    },
    {
      "cell_type": "code",
      "execution_count": null,
      "id": "2cdecff4",
      "metadata": {
        "id": "2cdecff4",
        "outputId": "73caf7d8-c6b0-4e45-b912-a429bbf25849",
        "colab": {
          "base_uri": "https://localhost:8080/"
        }
      },
      "outputs": [
        {
          "output_type": "execute_result",
          "data": {
            "text/plain": [
              "fare_amount          0\n",
              "pickup_datetime      0\n",
              "pickup_longitude     1\n",
              "pickup_latitude      1\n",
              "dropoff_longitude    1\n",
              "dropoff_latitude     1\n",
              "passenger_count      1\n",
              "dtype: int64"
            ]
          },
          "metadata": {},
          "execution_count": 12
        }
      ],
      "source": [
        "df.isnull().sum() "
      ]
    },
    {
      "cell_type": "code",
      "execution_count": 74,
      "id": "764a1207",
      "metadata": {
        "id": "764a1207"
      },
      "outputs": [],
      "source": [
        "# passengger_count has null value so replace it with mean or median value\n",
        "df['passenger_count'].fillna(value=df['passenger_count'].mean(),inplace = True)\n",
        "df['pickup_longitude'].fillna(value=df['pickup_longitude'].mean(),inplace = True)\n",
        "df['pickup_latitude'].fillna(value=df['pickup_latitude'].mean(),inplace = True)\n",
        "df['dropoff_longitude'].fillna(value=df['dropoff_longitude'].mean(),inplace = True)\n",
        "df['dropoff_latitude'].fillna(value=df['dropoff_latitude'].mean(),inplace = True)\n",
        "\n",
        "\n"
      ]
    },
    {
      "cell_type": "code",
      "execution_count": 75,
      "id": "77e59aaa",
      "metadata": {
        "id": "77e59aaa",
        "outputId": "dc964762-5233-41af-fa4d-cea91862df3f",
        "colab": {
          "base_uri": "https://localhost:8080/",
          "height": 0
        }
      },
      "outputs": [
        {
          "output_type": "execute_result",
          "data": {
            "text/plain": [
              "fare_amount          0\n",
              "pickup_longitude     0\n",
              "pickup_latitude      0\n",
              "dropoff_longitude    0\n",
              "dropoff_latitude     0\n",
              "passenger_count      0\n",
              "dtype: int64"
            ]
          },
          "metadata": {},
          "execution_count": 75
        }
      ],
      "source": [
        "df.isnull().sum() "
      ]
    },
    {
      "cell_type": "code",
      "execution_count": 76,
      "id": "7fe577b7",
      "metadata": {
        "id": "7fe577b7",
        "outputId": "40a76c4d-b969-4b36-f3ac-d05abc772082",
        "colab": {
          "base_uri": "https://localhost:8080/",
          "height": 0
        }
      },
      "outputs": [
        {
          "output_type": "execute_result",
          "data": {
            "text/plain": [
              "fare_amount          float64\n",
              "pickup_longitude     float64\n",
              "pickup_latitude      float64\n",
              "dropoff_longitude    float64\n",
              "dropoff_latitude     float64\n",
              "passenger_count      float64\n",
              "dtype: object"
            ]
          },
          "metadata": {},
          "execution_count": 76
        }
      ],
      "source": [
        "df.dtypes"
      ]
    },
    {
      "cell_type": "markdown",
      "id": "862aaa86",
      "metadata": {
        "id": "862aaa86"
      },
      "source": [
        "## Checking outliers and filling them "
      ]
    },
    {
      "cell_type": "code",
      "execution_count": 78,
      "id": "d02f34bc",
      "metadata": {
        "id": "d02f34bc",
        "outputId": "e8cf4156-815d-40bb-abd2-ea6b81b6c883",
        "colab": {
          "base_uri": "https://localhost:8080/",
          "height": 622
        }
      },
      "outputs": [
        {
          "output_type": "execute_result",
          "data": {
            "text/plain": [
              "fare_amount             AxesSubplot(0.125,0.787927;0.352273x0.0920732)\n",
              "pickup_longitude     AxesSubplot(0.547727,0.787927;0.352273x0.0920732)\n",
              "pickup_latitude         AxesSubplot(0.125,0.677439;0.352273x0.0920732)\n",
              "dropoff_longitude    AxesSubplot(0.547727,0.677439;0.352273x0.0920732)\n",
              "dropoff_latitude        AxesSubplot(0.125,0.566951;0.352273x0.0920732)\n",
              "passenger_count      AxesSubplot(0.547727,0.566951;0.352273x0.0920732)\n",
              "dtype: object"
            ]
          },
          "metadata": {},
          "execution_count": 78
        },
        {
          "output_type": "display_data",
          "data": {
            "text/plain": [
              "<Figure size 1080x1440 with 14 Axes>"
            ],
            "image/png": "[encoded data removed]"
          },
          "metadata": {
            "needs_background": "light"
          }
        }
      ],
      "source": [
        "df.plot(kind = \"box\",subplots = True,layout = (7,2),figsize=(15,20)) #Boxplot to check the outliers"
      ]
    },
    {
      "cell_type": "code",
      "execution_count": 79,
      "id": "738b633b",
      "metadata": {
        "id": "738b633b"
      },
      "outputs": [],
      "source": [
        "#Using the InterQuartile Range to fill the values\n",
        "def remove_outlier(df1 , col):\n",
        "    Q1 = df1[col].quantile(0.25)\n",
        "    Q3 = df1[col].quantile(0.75)\n",
        "    IQR = Q3 - Q1\n",
        "    lower_whisker = Q1-1.5*IQR\n",
        "    upper_whisker = Q3+1.5*IQR\n",
        "    df[col] = np.clip(df1[col] , lower_whisker , upper_whisker)\n",
        "    return df1\n",
        "    \n",
        "def treat_outliers_all(df1 , col_list):\n",
        "    for c in col_list:\n",
        "        df1 = remove_outlier(df , c)\n",
        "    return df1\n",
        " \n",
        "\n",
        "    "
      ]
    },
    {
      "cell_type": "code",
      "source": [
        " \n",
        "df = treat_outliers_all(df , df.iloc[: , 0::])\n"
      ],
      "metadata": {
        "id": "8wK9h_nj795-"
      },
      "id": "8wK9h_nj795-",
      "execution_count": 80,
      "outputs": []
    },
    {
      "cell_type": "code",
      "execution_count": 81,
      "id": "1080ca21",
      "metadata": {
        "id": "1080ca21",
        "colab": {
          "base_uri": "https://localhost:8080/",
          "height": 622
        },
        "outputId": "c9496a8c-c17d-4dfe-9c91-d967da137d01"
      },
      "outputs": [
        {
          "output_type": "execute_result",
          "data": {
            "text/plain": [
              "fare_amount             AxesSubplot(0.125,0.787927;0.352273x0.0920732)\n",
              "pickup_longitude     AxesSubplot(0.547727,0.787927;0.352273x0.0920732)\n",
              "pickup_latitude         AxesSubplot(0.125,0.677439;0.352273x0.0920732)\n",
              "dropoff_longitude    AxesSubplot(0.547727,0.677439;0.352273x0.0920732)\n",
              "dropoff_latitude        AxesSubplot(0.125,0.566951;0.352273x0.0920732)\n",
              "passenger_count      AxesSubplot(0.547727,0.566951;0.352273x0.0920732)\n",
              "dtype: object"
            ]
          },
          "metadata": {},
          "execution_count": 81
        },
        {
          "output_type": "display_data",
          "data": {
            "text/plain": [
              "<Figure size 1080x1440 with 14 Axes>"
            ],
            "image/png": "[encoded data removed]"
          },
          "metadata": {
            "needs_background": "light"
          }
        }
      ],
      "source": [
        "df.plot(kind = \"box\",subplots = True,layout = (7,2),figsize=(15,20)) #Boxplot shows that dataset is free from outliers"
      ]
    },
    {
      "cell_type": "code",
      "execution_count": 82,
      "id": "acbaa382",
      "metadata": {
        "id": "acbaa382",
        "colab": {
          "base_uri": "https://localhost:8080/",
          "height": 206
        },
        "outputId": "1ad70273-84bf-43bd-ce6d-18d9b446daa6"
      },
      "outputs": [
        {
          "output_type": "execute_result",
          "data": {
            "text/plain": [
              "   fare_amount  pickup_longitude  pickup_latitude  dropoff_longitude  \\\n",
              "0          7.5        -73.999817        40.738354         -73.999512   \n",
              "1          7.7        -73.994355        40.728225         -73.994710   \n",
              "2         12.9        -74.005043        40.740770         -73.962565   \n",
              "3          5.3        -73.976124        40.790844         -73.965316   \n",
              "4         16.0        -73.929941        40.744085         -73.973082   \n",
              "\n",
              "   dropoff_latitude  passenger_count  \n",
              "0         40.723217              1.0  \n",
              "1         40.750325              1.0  \n",
              "2         40.772647              1.0  \n",
              "3         40.803349              3.0  \n",
              "4         40.761247              3.5  "
            ],
            "text/html": [
              "\n",
              "  <div id=\"df-d57ec9bd-689c-4dec-adf8-baad0498f3e2\">\n",
              "    <div class=\"colab-df-container\">\n",
              "      <div>\n",
              "<style scoped>\n",
              "    .dataframe tbody tr th:only-of-type {\n",
              "        vertical-align: middle;\n",
              "    }\n",
              "\n",
              "    .dataframe tbody tr th {\n",
              "        vertical-align: top;\n",
              "    }\n",
              "\n",
              "    .dataframe thead th {\n",
              "        text-align: right;\n",
              "    }\n",
              "</style>\n",
              "<table border=\"1\" class=\"dataframe\">\n",
              "  <thead>\n",
              "    <tr style=\"text-align: right;\">\n",
              "      <th></th>\n",
              "      <th>fare_amount</th>\n",
              "      <th>pickup_longitude</th>\n",
              "      <th>pickup_latitude</th>\n",
              "      <th>dropoff_longitude</th>\n",
              "      <th>dropoff_latitude</th>\n",
              "      <th>passenger_count</th>\n",
              "    </tr>\n",
              "  </thead>\n",
              "  <tbody>\n",
              "    <tr>\n",
              "      <th>0</th>\n",
              "      <td>7.5</td>\n",
              "      <td>-73.999817</td>\n",
              "      <td>40.738354</td>\n",
              "      <td>-73.999512</td>\n",
              "      <td>40.723217</td>\n",
              "      <td>1.0</td>\n",
              "    </tr>\n",
              "    <tr>\n",
              "      <th>1</th>\n",
              "      <td>7.7</td>\n",
              "      <td>-73.994355</td>\n",
              "      <td>40.728225</td>\n",
              "      <td>-73.994710</td>\n",
              "      <td>40.750325</td>\n",
              "      <td>1.0</td>\n",
              "    </tr>\n",
              "    <tr>\n",
              "      <th>2</th>\n",
              "      <td>12.9</td>\n",
              "      <td>-74.005043</td>\n",
              "      <td>40.740770</td>\n",
              "      <td>-73.962565</td>\n",
              "      <td>40.772647</td>\n",
              "      <td>1.0</td>\n",
              "    </tr>\n",
              "    <tr>\n",
              "      <th>3</th>\n",
              "      <td>5.3</td>\n",
              "      <td>-73.976124</td>\n",
              "      <td>40.790844</td>\n",
              "      <td>-73.965316</td>\n",
              "      <td>40.803349</td>\n",
              "      <td>3.0</td>\n",
              "    </tr>\n",
              "    <tr>\n",
              "      <th>4</th>\n",
              "      <td>16.0</td>\n",
              "      <td>-73.929941</td>\n",
              "      <td>40.744085</td>\n",
              "      <td>-73.973082</td>\n",
              "      <td>40.761247</td>\n",
              "      <td>3.5</td>\n",
              "    </tr>\n",
              "  </tbody>\n",
              "</table>\n",
              "</div>\n",
              "      <button class=\"colab-df-convert\" onclick=\"convertToInteractive('df-d57ec9bd-689c-4dec-adf8-baad0498f3e2')\"\n",
              "              title=\"Convert this dataframe to an interactive table.\"\n",
              "              style=\"display:none;\">\n",
              "        \n",
              "  <svg xmlns=\"http://www.w3.org/2000/svg\" height=\"24px\"viewBox=\"0 0 24 24\"\n",
              "       width=\"24px\">\n",
              "    <path d=\"M0 0h24v24H0V0z\" fill=\"none\"/>\n",
              "    <path d=\"M18.56 5.44l.94 2.06.94-2.06 2.06-.94-2.06-.94-.94-2.06-.94 2.06-2.06.94zm-11 1L8.5 8.5l.94-2.06 2.06-.94-2.06-.94L8.5 2.5l-.94 2.06-2.06.94zm10 10l.94 2.06.94-2.06 2.06-.94-2.06-.94-.94-2.06-.94 2.06-2.06.94z\"/><path d=\"M17.41 7.96l-1.37-1.37c-.4-.4-.92-.59-1.43-.59-.52 0-1.04.2-1.43.59L10.3 9.45l-7.72 7.72c-.78.78-.78 2.05 0 2.83L4 21.41c.39.39.9.59 1.41.59.51 0 1.02-.2 1.41-.59l7.78-7.78 2.81-2.81c.8-.78.8-2.07 0-2.86zM5.41 20L4 18.59l7.72-7.72 1.47 1.35L5.41 20z\"/>\n",
              "  </svg>\n",
              "      </button>\n",
              "      \n",
              "  <style>\n",
              "    .colab-df-container {\n",
              "      display:flex;\n",
              "      flex-wrap:wrap;\n",
              "      gap: 12px;\n",
              "    }\n",
              "\n",
              "    .colab-df-convert {\n",
              "      background-color: #E8F0FE;\n",
              "      border: none;\n",
              "      border-radius: 50%;\n",
              "      cursor: pointer;\n",
              "      display: none;\n",
              "      fill: #1967D2;\n",
              "      height: 32px;\n",
              "      padding: 0 0 0 0;\n",
              "      width: 32px;\n",
              "    }\n",
              "\n",
              "    .colab-df-convert:hover {\n",
              "      background-color: #E2EBFA;\n",
              "      box-shadow: 0px 1px 2px rgba(60, 64, 67, 0.3), 0px 1px 3px 1px rgba(60, 64, 67, 0.15);\n",
              "      fill: #174EA6;\n",
              "    }\n",
              "\n",
              "    [theme=dark] .colab-df-convert {\n",
              "      background-color: #3B4455;\n",
              "      fill: #D2E3FC;\n",
              "    }\n",
              "\n",
              "    [theme=dark] .colab-df-convert:hover {\n",
              "      background-color: #434B5C;\n",
              "      box-shadow: 0px 1px 3px 1px rgba(0, 0, 0, 0.15);\n",
              "      filter: drop-shadow(0px 1px 2px rgba(0, 0, 0, 0.3));\n",
              "      fill: #FFFFFF;\n",
              "    }\n",
              "  </style>\n",
              "\n",
              "      <script>\n",
              "        const buttonEl =\n",
              "          document.querySelector('#df-d57ec9bd-689c-4dec-adf8-baad0498f3e2 button.colab-df-convert');\n",
              "        buttonEl.style.display =\n",
              "          google.colab.kernel.accessAllowed ? 'block' : 'none';\n",
              "\n",
              "        async function convertToInteractive(key) {\n",
              "          const element = document.querySelector('#df-d57ec9bd-689c-4dec-adf8-baad0498f3e2');\n",
              "          const dataTable =\n",
              "            await google.colab.kernel.invokeFunction('convertToInteractive',\n",
              "                                                     [key], {});\n",
              "          if (!dataTable) return;\n",
              "\n",
              "          const docLinkHtml = 'Like what you see? Visit the ' +\n",
              "            '<a target=\"_blank\" href=https://colab.research.google.com/notebooks/data_table.ipynb>data table notebook</a>'\n",
              "            + ' to learn more about interactive tables.';\n",
              "          element.innerHTML = '';\n",
              "          dataTable['output_type'] = 'display_data';\n",
              "          await google.colab.output.renderOutput(dataTable, element);\n",
              "          const docLink = document.createElement('div');\n",
              "          docLink.innerHTML = docLinkHtml;\n",
              "          element.appendChild(docLink);\n",
              "        }\n",
              "      </script>\n",
              "    </div>\n",
              "  </div>\n",
              "  "
            ]
          },
          "metadata": {},
          "execution_count": 82
        }
      ],
      "source": [
        "df.head()"
      ]
    },
    {
      "cell_type": "code",
      "execution_count": 83,
      "id": "75be700d",
      "metadata": {
        "id": "75be700d",
        "colab": {
          "base_uri": "https://localhost:8080/",
          "height": 0
        },
        "outputId": "a9ebbd2d-bb61-4d1f-b451-f4158c6d55f9"
      },
      "outputs": [
        {
          "output_type": "execute_result",
          "data": {
            "text/plain": [
              "fare_amount          0\n",
              "pickup_longitude     0\n",
              "pickup_latitude      0\n",
              "dropoff_longitude    0\n",
              "dropoff_latitude     0\n",
              "passenger_count      0\n",
              "dtype: int64"
            ]
          },
          "metadata": {},
          "execution_count": 83
        }
      ],
      "source": [
        "df.isnull().sum()"
      ]
    },
    {
      "cell_type": "code",
      "execution_count": 84,
      "id": "b69d9d57",
      "metadata": {
        "id": "b69d9d57",
        "colab": {
          "base_uri": "https://localhost:8080/",
          "height": 365
        },
        "outputId": "38a04ba7-2c74-4d16-b646-2e8ecfadb12f"
      },
      "outputs": [
        {
          "output_type": "execute_result",
          "data": {
            "text/plain": [
              "<matplotlib.axes._subplots.AxesSubplot at 0x7f67a5f81e90>"
            ]
          },
          "metadata": {},
          "execution_count": 84
        },
        {
          "output_type": "display_data",
          "data": {
            "text/plain": [
              "<Figure size 432x288 with 2 Axes>"
            ],
            "image/png": "[encoded data removed]"
          },
          "metadata": {
            "needs_background": "light"
          }
        }
      ],
      "source": [
        "sns.heatmap(df.isnull()) #Free for null values"
      ]
    },
    {
      "cell_type": "code",
      "execution_count": 85,
      "id": "03aee8fb",
      "metadata": {
        "id": "03aee8fb"
      },
      "outputs": [],
      "source": [
        "corr = df.corr() #Function to find the correlation"
      ]
    },
    {
      "cell_type": "code",
      "execution_count": 86,
      "id": "6f748085",
      "metadata": {
        "id": "6f748085",
        "colab": {
          "base_uri": "https://localhost:8080/",
          "height": 238
        },
        "outputId": "08b6736b-2399-434d-eb4e-723f1b32b4ca"
      },
      "outputs": [
        {
          "output_type": "execute_result",
          "data": {
            "text/plain": [
              "                   fare_amount  pickup_longitude  pickup_latitude  \\\n",
              "fare_amount           1.000000          0.167049        -0.114343   \n",
              "pickup_longitude      0.167049          1.000000         0.268243   \n",
              "pickup_latitude      -0.114343          0.268243         1.000000   \n",
              "dropoff_longitude     0.228189          0.428222         0.053571   \n",
              "dropoff_latitude     -0.133700          0.083235         0.520707   \n",
              "passenger_count       0.018673         -0.007946        -0.011390   \n",
              "\n",
              "                   dropoff_longitude  dropoff_latitude  passenger_count  \n",
              "fare_amount                 0.228189         -0.133700         0.018673  \n",
              "pickup_longitude            0.428222          0.083235        -0.007946  \n",
              "pickup_latitude             0.053571          0.520707        -0.011390  \n",
              "dropoff_longitude           1.000000          0.249985        -0.005916  \n",
              "dropoff_latitude            0.249985          1.000000        -0.007331  \n",
              "passenger_count            -0.005916         -0.007331         1.000000  "
            ],
            "text/html": [
              "\n",
              "  <div id=\"df-719a3989-d65e-48a4-8288-2c941f45b636\">\n",
              "    <div class=\"colab-df-container\">\n",
              "      <div>\n",
              "<style scoped>\n",
              "    .dataframe tbody tr th:only-of-type {\n",
              "        vertical-align: middle;\n",
              "    }\n",
              "\n",
              "    .dataframe tbody tr th {\n",
              "        vertical-align: top;\n",
              "    }\n",
              "\n",
              "    .dataframe thead th {\n",
              "        text-align: right;\n",
              "    }\n",
              "</style>\n",
              "<table border=\"1\" class=\"dataframe\">\n",
              "  <thead>\n",
              "    <tr style=\"text-align: right;\">\n",
              "      <th></th>\n",
              "      <th>fare_amount</th>\n",
              "      <th>pickup_longitude</th>\n",
              "      <th>pickup_latitude</th>\n",
              "      <th>dropoff_longitude</th>\n",
              "      <th>dropoff_latitude</th>\n",
              "      <th>passenger_count</th>\n",
              "    </tr>\n",
              "  </thead>\n",
              "  <tbody>\n",
              "    <tr>\n",
              "      <th>fare_amount</th>\n",
              "      <td>1.000000</td>\n",
              "      <td>0.167049</td>\n",
              "      <td>-0.114343</td>\n",
              "      <td>0.228189</td>\n",
              "      <td>-0.133700</td>\n",
              "      <td>0.018673</td>\n",
              "    </tr>\n",
              "    <tr>\n",
              "      <th>pickup_longitude</th>\n",
              "      <td>0.167049</td>\n",
              "      <td>1.000000</td>\n",
              "      <td>0.268243</td>\n",
              "      <td>0.428222</td>\n",
              "      <td>0.083235</td>\n",
              "      <td>-0.007946</td>\n",
              "    </tr>\n",
              "    <tr>\n",
              "      <th>pickup_latitude</th>\n",
              "      <td>-0.114343</td>\n",
              "      <td>0.268243</td>\n",
              "      <td>1.000000</td>\n",
              "      <td>0.053571</td>\n",
              "      <td>0.520707</td>\n",
              "      <td>-0.011390</td>\n",
              "    </tr>\n",
              "    <tr>\n",
              "      <th>dropoff_longitude</th>\n",
              "      <td>0.228189</td>\n",
              "      <td>0.428222</td>\n",
              "      <td>0.053571</td>\n",
              "      <td>1.000000</td>\n",
              "      <td>0.249985</td>\n",
              "      <td>-0.005916</td>\n",
              "    </tr>\n",
              "    <tr>\n",
              "      <th>dropoff_latitude</th>\n",
              "      <td>-0.133700</td>\n",
              "      <td>0.083235</td>\n",
              "      <td>0.520707</td>\n",
              "      <td>0.249985</td>\n",
              "      <td>1.000000</td>\n",
              "      <td>-0.007331</td>\n",
              "    </tr>\n",
              "    <tr>\n",
              "      <th>passenger_count</th>\n",
              "      <td>0.018673</td>\n",
              "      <td>-0.007946</td>\n",
              "      <td>-0.011390</td>\n",
              "      <td>-0.005916</td>\n",
              "      <td>-0.007331</td>\n",
              "      <td>1.000000</td>\n",
              "    </tr>\n",
              "  </tbody>\n",
              "</table>\n",
              "</div>\n",
              "      <button class=\"colab-df-convert\" onclick=\"convertToInteractive('df-719a3989-d65e-48a4-8288-2c941f45b636')\"\n",
              "              title=\"Convert this dataframe to an interactive table.\"\n",
              "              style=\"display:none;\">\n",
              "        \n",
              "  <svg xmlns=\"http://www.w3.org/2000/svg\" height=\"24px\"viewBox=\"0 0 24 24\"\n",
              "       width=\"24px\">\n",
              "    <path d=\"M0 0h24v24H0V0z\" fill=\"none\"/>\n",
              "    <path d=\"M18.56 5.44l.94 2.06.94-2.06 2.06-.94-2.06-.94-.94-2.06-.94 2.06-2.06.94zm-11 1L8.5 8.5l.94-2.06 2.06-.94-2.06-.94L8.5 2.5l-.94 2.06-2.06.94zm10 10l.94 2.06.94-2.06 2.06-.94-2.06-.94-.94-2.06-.94 2.06-2.06.94z\"/><path d=\"M17.41 7.96l-1.37-1.37c-.4-.4-.92-.59-1.43-.59-.52 0-1.04.2-1.43.59L10.3 9.45l-7.72 7.72c-.78.78-.78 2.05 0 2.83L4 21.41c.39.39.9.59 1.41.59.51 0 1.02-.2 1.41-.59l7.78-7.78 2.81-2.81c.8-.78.8-2.07 0-2.86zM5.41 20L4 18.59l7.72-7.72 1.47 1.35L5.41 20z\"/>\n",
              "  </svg>\n",
              "      </button>\n",
              "      \n",
              "  <style>\n",
              "    .colab-df-container {\n",
              "      display:flex;\n",
              "      flex-wrap:wrap;\n",
              "      gap: 12px;\n",
              "    }\n",
              "\n",
              "    .colab-df-convert {\n",
              "      background-color: #E8F0FE;\n",
              "      border: none;\n",
              "      border-radius: 50%;\n",
              "      cursor: pointer;\n",
              "      display: none;\n",
              "      fill: #1967D2;\n",
              "      height: 32px;\n",
              "      padding: 0 0 0 0;\n",
              "      width: 32px;\n",
              "    }\n",
              "\n",
              "    .colab-df-convert:hover {\n",
              "      background-color: #E2EBFA;\n",
              "      box-shadow: 0px 1px 2px rgba(60, 64, 67, 0.3), 0px 1px 3px 1px rgba(60, 64, 67, 0.15);\n",
              "      fill: #174EA6;\n",
              "    }\n",
              "\n",
              "    [theme=dark] .colab-df-convert {\n",
              "      background-color: #3B4455;\n",
              "      fill: #D2E3FC;\n",
              "    }\n",
              "\n",
              "    [theme=dark] .colab-df-convert:hover {\n",
              "      background-color: #434B5C;\n",
              "      box-shadow: 0px 1px 3px 1px rgba(0, 0, 0, 0.15);\n",
              "      filter: drop-shadow(0px 1px 2px rgba(0, 0, 0, 0.3));\n",
              "      fill: #FFFFFF;\n",
              "    }\n",
              "  </style>\n",
              "\n",
              "      <script>\n",
              "        const buttonEl =\n",
              "          document.querySelector('#df-719a3989-d65e-48a4-8288-2c941f45b636 button.colab-df-convert');\n",
              "        buttonEl.style.display =\n",
              "          google.colab.kernel.accessAllowed ? 'block' : 'none';\n",
              "\n",
              "        async function convertToInteractive(key) {\n",
              "          const element = document.querySelector('#df-719a3989-d65e-48a4-8288-2c941f45b636');\n",
              "          const dataTable =\n",
              "            await google.colab.kernel.invokeFunction('convertToInteractive',\n",
              "                                                     [key], {});\n",
              "          if (!dataTable) return;\n",
              "\n",
              "          const docLinkHtml = 'Like what you see? Visit the ' +\n",
              "            '<a target=\"_blank\" href=https://colab.research.google.com/notebooks/data_table.ipynb>data table notebook</a>'\n",
              "            + ' to learn more about interactive tables.';\n",
              "          element.innerHTML = '';\n",
              "          dataTable['output_type'] = 'display_data';\n",
              "          await google.colab.output.renderOutput(dataTable, element);\n",
              "          const docLink = document.createElement('div');\n",
              "          docLink.innerHTML = docLinkHtml;\n",
              "          element.appendChild(docLink);\n",
              "        }\n",
              "      </script>\n",
              "    </div>\n",
              "  </div>\n",
              "  "
            ]
          },
          "metadata": {},
          "execution_count": 86
        }
      ],
      "source": [
        "corr"
      ]
    },
    {
      "cell_type": "code",
      "execution_count": 87,
      "id": "379a2944",
      "metadata": {
        "id": "379a2944",
        "colab": {
          "base_uri": "https://localhost:8080/",
          "height": 473
        },
        "outputId": "cd3c1aee-ea22-4569-b678-5382179616f1"
      },
      "outputs": [
        {
          "output_type": "execute_result",
          "data": {
            "text/plain": [
              "<matplotlib.axes._subplots.AxesSubplot at 0x7f67a5ec4a50>"
            ]
          },
          "metadata": {},
          "execution_count": 87
        },
        {
          "output_type": "display_data",
          "data": {
            "text/plain": [
              "<Figure size 720x432 with 2 Axes>"
            ],
            "image/png": "[encoded data removed]"
          },
          "metadata": {
            "needs_background": "light"
          }
        }
      ],
      "source": [
        "fig,axis = plt.subplots(figsize = (10,6))\n",
        "sns.heatmap(df.corr(),annot = True) #Correlation Heatmap (Light values means highly correlated)"
      ]
    },
    {
      "cell_type": "markdown",
      "id": "147b7204",
      "metadata": {
        "id": "147b7204"
      },
      "source": [
        "### Dividing the dataset into feature and target values "
      ]
    },
    {
      "cell_type": "code",
      "source": [
        "df.isnull().sum() "
      ],
      "metadata": {
        "colab": {
          "base_uri": "https://localhost:8080/",
          "height": 0
        },
        "id": "ZtwTB6zv7rkJ",
        "outputId": "ad1dc638-149d-4934-f295-385a063e7aa6"
      },
      "id": "ZtwTB6zv7rkJ",
      "execution_count": 88,
      "outputs": [
        {
          "output_type": "execute_result",
          "data": {
            "text/plain": [
              "fare_amount          0\n",
              "pickup_longitude     0\n",
              "pickup_latitude      0\n",
              "dropoff_longitude    0\n",
              "dropoff_latitude     0\n",
              "passenger_count      0\n",
              "dtype: int64"
            ]
          },
          "metadata": {},
          "execution_count": 88
        }
      ]
    },
    {
      "cell_type": "code",
      "execution_count": 89,
      "id": "dcbe11f4",
      "metadata": {
        "id": "dcbe11f4"
      },
      "outputs": [],
      "source": [
        "X = df.iloc[:, :-1].values\n",
        "y = df.iloc[:, -1].values\n",
        "\n",
        "#x = df[['pickup_longitude','pickup_latitude','dropoff_longitude','dropoff_latitude','passenger_count','hour','day','month','year','dayofweek','dist_travel_km']]"
      ]
    },
    {
      "cell_type": "code",
      "execution_count": null,
      "id": "374ad33e",
      "metadata": {
        "id": "374ad33e"
      },
      "outputs": [],
      "source": [
        "#y = df['fare_amount']"
      ]
    },
    {
      "cell_type": "markdown",
      "id": "271b0ada",
      "metadata": {
        "id": "271b0ada"
      },
      "source": [
        "### Dividing the dataset into training and testing dataset"
      ]
    },
    {
      "cell_type": "code",
      "execution_count": 90,
      "id": "531acc39",
      "metadata": {
        "id": "531acc39"
      },
      "outputs": [],
      "source": [
        "from sklearn.model_selection import train_test_split\n",
        "X_train,X_test,y_train,y_test = train_test_split(X,y,test_size = 0.30)"
      ]
    },
    {
      "cell_type": "code",
      "source": [
        "X_train"
      ],
      "metadata": {
        "id": "IbuFzNUI6vDa",
        "colab": {
          "base_uri": "https://localhost:8080/",
          "height": 0
        },
        "outputId": "f10a0b1f-7b17-4dda-9c5e-0a9c1bce69e0"
      },
      "id": "IbuFzNUI6vDa",
      "execution_count": 91,
      "outputs": [
        {
          "output_type": "execute_result",
          "data": {
            "text/plain": [
              "array([[  6.9      , -73.976309 ,  40.755542 , -73.999377 ,  40.76129  ],\n",
              "       [  6.       , -73.962055 ,  40.776427 , -73.952213 ,  40.787342 ],\n",
              "       [ 18.5      , -74.002847 ,  40.723358 , -73.975907 ,  40.75785  ],\n",
              "       ...,\n",
              "       [ 11.5      , -73.951395 ,  40.770132 , -73.976775 ,  40.78026  ],\n",
              "       [ 10.5      , -73.971915 ,  40.757187 , -73.992037 ,  40.74269  ],\n",
              "       [ 23.25     , -73.9299405,  40.77417  , -73.979281 ,  40.762337 ]])"
            ]
          },
          "metadata": {},
          "execution_count": 91
        }
      ]
    },
    {
      "cell_type": "markdown",
      "id": "50cb63a2",
      "metadata": {
        "id": "50cb63a2"
      },
      "source": [
        "### Linear Regression"
      ]
    },
    {
      "cell_type": "code",
      "execution_count": 92,
      "id": "e7832a2a",
      "metadata": {
        "id": "e7832a2a"
      },
      "outputs": [],
      "source": [
        "from sklearn.linear_model import LinearRegression\n",
        "regression = LinearRegression()"
      ]
    },
    {
      "cell_type": "code",
      "execution_count": 93,
      "id": "250424f0",
      "metadata": {
        "id": "250424f0",
        "colab": {
          "base_uri": "https://localhost:8080/",
          "height": 0
        },
        "outputId": "8364344c-5ed0-425f-c561-40c510fda2d0"
      },
      "outputs": [
        {
          "output_type": "execute_result",
          "data": {
            "text/plain": [
              "LinearRegression()"
            ]
          },
          "metadata": {},
          "execution_count": 93
        }
      ],
      "source": [
        "regression.fit(X_train,y_train)"
      ]
    },
    {
      "cell_type": "code",
      "execution_count": 94,
      "id": "20e68d88",
      "metadata": {
        "id": "20e68d88",
        "colab": {
          "base_uri": "https://localhost:8080/",
          "height": 0
        },
        "outputId": "d65ffba6-3fb4-4fe8-b678-003999b17a87"
      },
      "outputs": [
        {
          "output_type": "execute_result",
          "data": {
            "text/plain": [
              "-36.99163580975869"
            ]
          },
          "metadata": {},
          "execution_count": 94
        }
      ],
      "source": [
        "regression.intercept_ #To find the linear intercept"
      ]
    },
    {
      "cell_type": "code",
      "execution_count": 95,
      "id": "51d71c8f",
      "metadata": {
        "id": "51d71c8f",
        "colab": {
          "base_uri": "https://localhost:8080/",
          "height": 0
        },
        "outputId": "aad385bb-bac5-407a-c784-fe3240e44d94"
      },
      "outputs": [
        {
          "output_type": "execute_result",
          "data": {
            "text/plain": [
              "array([ 0.00279521, -0.42759057, -0.27323316, -0.26854322, -0.04632836])"
            ]
          },
          "metadata": {},
          "execution_count": 95
        }
      ],
      "source": [
        "regression.coef_ #To find the linear coeeficient"
      ]
    },
    {
      "cell_type": "code",
      "execution_count": 96,
      "id": "1f1eb1de",
      "metadata": {
        "id": "1f1eb1de"
      },
      "outputs": [],
      "source": [
        "prediction = regression.predict(X_test) #To predict the target values"
      ]
    },
    {
      "cell_type": "code",
      "execution_count": 97,
      "id": "f0d5ff74",
      "metadata": {
        "id": "f0d5ff74",
        "colab": {
          "base_uri": "https://localhost:8080/",
          "height": 0
        },
        "outputId": "ac8bd185-6469-425c-845b-d08709ab37e8"
      },
      "outputs": [
        {
          "output_type": "stream",
          "name": "stdout",
          "text": [
            "[1.5097912  1.48907533 1.47874357 ... 1.52928663 1.49801616 1.51254106]\n"
          ]
        }
      ],
      "source": [
        "print(prediction)"
      ]
    },
    {
      "cell_type": "code",
      "execution_count": 98,
      "id": "bee43837",
      "metadata": {
        "id": "bee43837",
        "colab": {
          "base_uri": "https://localhost:8080/",
          "height": 0
        },
        "outputId": "d5f75979-0381-4829-c722-44b614906691"
      },
      "outputs": [
        {
          "output_type": "execute_result",
          "data": {
            "text/plain": [
              "array([1., 1., 1., ..., 1., 1., 1.])"
            ]
          },
          "metadata": {},
          "execution_count": 98
        }
      ],
      "source": [
        "y_test"
      ]
    },
    {
      "cell_type": "markdown",
      "id": "aea79164",
      "metadata": {
        "id": "aea79164"
      },
      "source": [
        "### Metrics Evaluation using R2, Mean Squared Error, Root Mean Sqared Error"
      ]
    },
    {
      "cell_type": "code",
      "execution_count": 113,
      "id": "0adbb04a",
      "metadata": {
        "id": "0adbb04a"
      },
      "outputs": [],
      "source": [
        "from sklearn.metrics import r2_score "
      ]
    },
    {
      "cell_type": "code",
      "execution_count": 114,
      "id": "e149ee76",
      "metadata": {
        "id": "e149ee76",
        "colab": {
          "base_uri": "https://localhost:8080/",
          "height": 0
        },
        "outputId": "77b61e07-f808-47b0-8a65-9ce1f9574f25"
      },
      "outputs": [
        {
          "output_type": "execute_result",
          "data": {
            "text/plain": [
              "0.0003531071428344301"
            ]
          },
          "metadata": {},
          "execution_count": 114
        }
      ],
      "source": [
        "r2_score(y_test,prediction)"
      ]
    },
    {
      "cell_type": "code",
      "execution_count": 115,
      "id": "fe211918",
      "metadata": {
        "id": "fe211918"
      },
      "outputs": [],
      "source": [
        "from sklearn.metrics import mean_squared_error"
      ]
    },
    {
      "cell_type": "code",
      "execution_count": 116,
      "id": "c0f0a43a",
      "metadata": {
        "id": "c0f0a43a"
      },
      "outputs": [],
      "source": [
        "MSE = mean_squared_error(y_test,prediction)"
      ]
    },
    {
      "cell_type": "code",
      "execution_count": 117,
      "id": "48d59a67",
      "metadata": {
        "id": "48d59a67",
        "colab": {
          "base_uri": "https://localhost:8080/",
          "height": 0
        },
        "outputId": "99fc20c7-6a76-4d7c-cfd3-456cfbee2bfe"
      },
      "outputs": [
        {
          "output_type": "execute_result",
          "data": {
            "text/plain": [
              "0.7587261028954677"
            ]
          },
          "metadata": {},
          "execution_count": 117
        }
      ],
      "source": [
        "MSE "
      ]
    },
    {
      "cell_type": "code",
      "execution_count": 118,
      "id": "2511108b",
      "metadata": {
        "id": "2511108b"
      },
      "outputs": [],
      "source": [
        "RMSE = np.sqrt(MSE)"
      ]
    },
    {
      "cell_type": "code",
      "execution_count": 119,
      "id": "2dc85cab",
      "metadata": {
        "id": "2dc85cab",
        "colab": {
          "base_uri": "https://localhost:8080/",
          "height": 0
        },
        "outputId": "6be11251-26d4-4260-b98d-91bca28e6ed9"
      },
      "outputs": [
        {
          "output_type": "execute_result",
          "data": {
            "text/plain": [
              "0.8710488521865279"
            ]
          },
          "metadata": {},
          "execution_count": 119
        }
      ],
      "source": [
        "RMSE"
      ]
    },
    {
      "cell_type": "markdown",
      "id": "b28a869b",
      "metadata": {
        "id": "b28a869b"
      },
      "source": [
        "### Random Forest Regression"
      ]
    },
    {
      "cell_type": "code",
      "execution_count": 120,
      "id": "112d3d95",
      "metadata": {
        "id": "112d3d95"
      },
      "outputs": [],
      "source": [
        "from sklearn.ensemble import RandomForestRegressor"
      ]
    },
    {
      "cell_type": "code",
      "execution_count": 121,
      "id": "38ec4ad5",
      "metadata": {
        "id": "38ec4ad5"
      },
      "outputs": [],
      "source": [
        "rf = RandomForestRegressor(n_estimators=100) #Here n_estimators means number of trees you want to build before making the prediction"
      ]
    },
    {
      "cell_type": "code",
      "execution_count": 122,
      "id": "0534374d",
      "metadata": {
        "id": "0534374d",
        "colab": {
          "base_uri": "https://localhost:8080/",
          "height": 0
        },
        "outputId": "0c9fcc2a-3994-497a-f9c7-e67def5f89fb"
      },
      "outputs": [
        {
          "output_type": "execute_result",
          "data": {
            "text/plain": [
              "RandomForestRegressor()"
            ]
          },
          "metadata": {},
          "execution_count": 122
        }
      ],
      "source": [
        "rf.fit(X_train,y_train)"
      ]
    },
    {
      "cell_type": "code",
      "execution_count": 123,
      "id": "9204f230",
      "metadata": {
        "id": "9204f230"
      },
      "outputs": [],
      "source": [
        "y_pred = rf.predict(X_test)"
      ]
    },
    {
      "cell_type": "code",
      "execution_count": 124,
      "id": "2ff13564",
      "metadata": {
        "id": "2ff13564",
        "colab": {
          "base_uri": "https://localhost:8080/",
          "height": 0
        },
        "outputId": "b4311496-41d2-4b1b-f1d2-77172355e882"
      },
      "outputs": [
        {
          "output_type": "execute_result",
          "data": {
            "text/plain": [
              "array([1.46      , 1.615     , 1.38      , ..., 1.64290476, 1.455     ,\n",
              "       1.615     ])"
            ]
          },
          "metadata": {},
          "execution_count": 124
        }
      ],
      "source": [
        "y_pred"
      ]
    },
    {
      "cell_type": "markdown",
      "id": "8533b89a",
      "metadata": {
        "id": "8533b89a"
      },
      "source": [
        "### Metrics evaluatin for Random Forest"
      ]
    },
    {
      "cell_type": "code",
      "execution_count": 125,
      "id": "0d281db3",
      "metadata": {
        "id": "0d281db3"
      },
      "outputs": [],
      "source": [
        "R2_Random = r2_score(y_test,y_pred)"
      ]
    },
    {
      "cell_type": "code",
      "execution_count": 126,
      "id": "addc915b",
      "metadata": {
        "id": "addc915b",
        "colab": {
          "base_uri": "https://localhost:8080/",
          "height": 0
        },
        "outputId": "2958ba21-9813-4531-a74a-4b811122c7da"
      },
      "outputs": [
        {
          "output_type": "execute_result",
          "data": {
            "text/plain": [
              "-0.06550647590096692"
            ]
          },
          "metadata": {},
          "execution_count": 126
        }
      ],
      "source": [
        "R2_Random"
      ]
    },
    {
      "cell_type": "code",
      "execution_count": 127,
      "id": "a5afba13",
      "metadata": {
        "id": "a5afba13"
      },
      "outputs": [],
      "source": [
        "MSE_Random = mean_squared_error(y_test,y_pred)"
      ]
    },
    {
      "cell_type": "code",
      "execution_count": 128,
      "id": "2a24e004",
      "metadata": {
        "id": "2a24e004",
        "colab": {
          "base_uri": "https://localhost:8080/",
          "height": 0
        },
        "outputId": "584c2a2c-7e47-4877-8b46-ec74ec22d06d"
      },
      "outputs": [
        {
          "output_type": "execute_result",
          "data": {
            "text/plain": [
              "0.8087131384559171"
            ]
          },
          "metadata": {},
          "execution_count": 128
        }
      ],
      "source": [
        "MSE_Random"
      ]
    },
    {
      "cell_type": "code",
      "execution_count": 129,
      "id": "2d28c828",
      "metadata": {
        "id": "2d28c828"
      },
      "outputs": [],
      "source": [
        "RMSE_Random = np.sqrt(MSE_Random)"
      ]
    },
    {
      "cell_type": "code",
      "execution_count": 130,
      "id": "bd7fce65",
      "metadata": {
        "scrolled": true,
        "id": "bd7fce65",
        "colab": {
          "base_uri": "https://localhost:8080/",
          "height": 0
        },
        "outputId": "853facc9-d949-4671-e25e-404f4c0d2d1e"
      },
      "outputs": [
        {
          "output_type": "execute_result",
          "data": {
            "text/plain": [
              "0.8992847927413857"
            ]
          },
          "metadata": {},
          "execution_count": 130
        }
      ],
      "source": [
        "RMSE_Random"
      ]
    }
  ],
  "metadata": {
    "kernelspec": {
      "display_name": "Python 3",
      "language": "python",
      "name": "python3"
    },
    "language_info": {
      "codemirror_mode": {
        "name": "ipython",
        "version": 3
      },
      "file_extension": ".py",
      "mimetype": "text/x-python",
      "name": "python",
      "nbconvert_exporter": "python",
      "pygments_lexer": "ipython3",
      "version": "3.8.8"
    },
    "colab": {
      "provenance": [],
      "collapsed_sections": []
    }
  },
  "nbformat": 4,
  "nbformat_minor": 5
}